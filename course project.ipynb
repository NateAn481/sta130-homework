{
 "cells": [
  {
   "cell_type": "markdown",
   "id": "0e709362",
   "metadata": {},
   "source": [
    "# Variables 1：DEMO_age and WELLNESS_life_satisfaction\n",
    "I choose age and life satsisfaction. The variable age is the data we get by asking people \"How old are you(in years)?\" and it is digit. The life satsisfaction is also digit.People will rate their current life on a scale of 1 to 10. Since they are digit so we can use many ways to analyse them. I want to analyse the the relationship between age and life satsisfaction."
   ]
  },
  {
   "cell_type": "markdown",
   "id": "d3fbe4ee",
   "metadata": {},
   "source": [
    "# Analysis 1\n",
    "I want to analyse the the relationship between age and life satsisfaction. Firstly, I will use Data Summarization. I will delete all the NA data. Then I will calculate the overall average life satisfaction and then find the median age of the survey population. Using the median as the dividing point, I will split the population into two groups: younger and older. I will calculate the average life satisfaction for each group and compare them with the overall average life satisfaction. This way, I can determine which age group is more satisfied with their life. Secondly, I will use Data Visualization. I will divide the ages into several intervals (such as 20-30 years, 30-40 years, etc.) and create histogram of the number of people for each age group. This way, I can exclude outliers and visually observe the distribution of age of groups we are researching. I can also make a histogram to show the distribution of the life satisfaction. Thirdly, I will use Simple Linear regression. Ensure the data is cleaned (e.g., no missing values or outliers). Then, set \"Age\" as the independent variable (X) and \"Life Satisfaction\" as the dependent variable (y). Plot a scatter plot, and then use Python to create a linear regression model to fit a regression line. Obtain the regression equation from the fitted line. By analyzing the fitted regression line, we can assess the direction and strength of the relationship between the two variables.\n",
    "\n",
    "\n",
    "Perhaps the relationship shows that as age increases, life satisfaction also tends to be higher, but the strength of this relationship may not be very strong. Observing the data, I can see that many younger individuals are also very satisfied with their lives, but overall, life satisfaction appears to increase with age. I believe age reflects different social connections and levels of community involvement. For instance, older people are often family elders and may have more intergenerational friendships, while younger people might encounter new experiences and connect with a wider variety of people. Therefore, I think studying the relationship between age and life satisfaction could significantly contribute to the course project."
   ]
  },
  {
   "cell_type": "markdown",
   "id": "7108f41f",
   "metadata": {},
   "source": [
    "# Variables 2 GEO_province and CONNECTION_meaningful_interactions\n",
    "I choose province and meaningful interaction. The variable province is which province live in Canada. The variablee meaningful interaction is the frequency people have meaningful interaction. I want to analyse the relationship between provvince and meaningful interaction."
   ]
  },
  {
   "cell_type": "markdown",
   "id": "6174c7cd",
   "metadata": {},
   "source": [
    "# Analysis 2 \n",
    " I want to analyse the relationship between province and meaningful interaction. Firstly, I will delete the NA data and clean the data. Secondly, I will use Data Summarization to calculate data. For each province, I will calculate the total number of people in different types of frequencies.(e.g.,In Ontario, the number of people who choose 'every day is a). Secondly, I will use Data Visualization. I will draw the bar plot for each province so that I can know the distribution of different frequencies in the province. Thirdly, by comparing the different provinces'bar plot. For instance, I can conclude which provinces have the most proportion in 'evey day'. \n",
    "\n",
    "After making comparisons, I might find that meaningful interactions are most frequent in Ontario. This could be because Ontario has a large population and is relatively developed, leading to more frequent interactions between people. This may reflect how different environments and cities could influence connections between people, which could be helpful for our course project."
   ]
  },
  {
   "cell_type": "markdown",
   "id": "abc2c20f",
   "metadata": {},
   "source": [
    "# Variables 3 WELLNESS_malach_pines_burnout_measure_tired and LIFESTYLE_time_use_balance_sleeping"
   ]
  },
  {
   "cell_type": "markdown",
   "id": "d262736d",
   "metadata": {},
   "source": [
    "I choose Malach-Pines Burnout measure-tired and time use balance sleeping. The first variable is used to show the tired degree of people and the time use balance sleeping can show whether people are getting enough sleep. I want to analyse the relationship between tiredness and time use balance sleeping."
   ]
  },
  {
   "cell_type": "markdown",
   "id": "a8d047bf",
   "metadata": {},
   "source": [
    "# Analysis 3\n",
    "I want to analyse the relationship between tiredness and time use balance sleeping. Firstly, I will use Data Summarization. I will clean the missing values and calculate the sum of each degree.(e.g., 'sometimes' in WELLNESS_malach_pines_burnout_measure_tired). Secondly, I will use Data Visualization. I will create a histogram using 'malach_pines_burnout_measure_tired' as the x-axis, create a chart to show the frequency distribution, counting how many people fall into each level. This can show the distribution of people in this field. I will also create a histogram using time use balance sleeping as the x-axis, create a chart to show the frequency distribution, counting how many people fall into each level. I can observed the general condition of our data. Thirdly, classify the data based on different frequencies of 'time use balance sleeping,' then, within each frequency category of 'time use balance sleeping,' count the number of people for each frequency of 'malach_pines_burnout_measure_tired.' Use this to create multiple histograms and calculate the proportions for each category. By observing the proportions of 'malach_pines_burnout_measure_tired' within each 'time use balance sleeping' frequency, I can infer the relationship between the two variables. For instance, if the proportion of people feeling 'very often' in the sitution of insufficient sleeptired is highest among all, it suggests that insufficient sleep may be a significant factor contributing to fatigue.\n",
    "\n",
    "After analysing all these steps, I can infer to the relationship between two variables. Perhaps the result is when people sleep less, they will feel tired more often. I research this aims to determined the relationship between these two variables and I think we should take this factor into account in our research project, as sleeping amount may also influence people's health. Therefore, when we discuss other factors influencing health in the project, we need to control for the impact of sleeping amount on the study results."
   ]
  },
  {
   "cell_type": "code",
   "execution_count": null,
   "id": "d59c5177",
   "metadata": {},
   "outputs": [],
   "source": []
  }
 ],
 "metadata": {
  "kernelspec": {
   "display_name": "Python 3 (ipykernel)",
   "language": "python",
   "name": "python3"
  },
  "language_info": {
   "codemirror_mode": {
    "name": "ipython",
    "version": 3
   },
   "file_extension": ".py",
   "mimetype": "text/x-python",
   "name": "python",
   "nbconvert_exporter": "python",
   "pygments_lexer": "ipython3",
   "version": "3.11.6"
  }
 },
 "nbformat": 4,
 "nbformat_minor": 5
}
