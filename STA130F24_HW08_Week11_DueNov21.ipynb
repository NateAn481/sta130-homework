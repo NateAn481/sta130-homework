{
 "cells": [
  {
   "cell_type": "markdown",
   "id": "8a29dab0",
   "metadata": {},
   "source": [
    "# STA130 Homework 08\n",
    "\n",
    "Please see the course [wiki-textbook](https://github.com/pointOfive/stat130chat130/wiki) for the list of topics covered in this homework assignment, and a list of topics that might appear during ChatBot conversations which are \"out of scope\" for the purposes of this homework assignment (and hence can be safely ignored if encountered)"
   ]
  },
  {
   "cell_type": "markdown",
   "id": "94eee301",
   "metadata": {},
   "source": [
    "<details class=\"details-example\"><summary style=\"color:blue\"><u>Introduction</u></summary>\n",
    "\n",
    "### Introduction\n",
    "    \n",
    "A reasonable characterization of STA130 Homework is that it simply defines a weekly reading comprehension assignment. \n",
    "Indeed, STA130 Homework essentially boils down to completing various understanding confirmation exercises oriented around coding and writing tasks.\n",
    "However, rather than reading a textbook, STA130 Homework is based on ChatBots so students can interactively follow up to clarify questions or confusion that they may still have regarding learning objective assignments.\n",
    "\n",
    "> Communication is a fundamental skill underlying statistics and data science, so STA130 Homework based on ChatBots helps practice effective two-way communication as part of a \"realistic\" dialogue activity supporting underlying conceptual understanding building. \n",
    "\n",
    "It will likely become increasingly tempting to rely on ChatBots to \"do the work for you\". But when you find yourself frustrated with a ChatBots inability to give you the results you're looking for, this is a \"hint\" that you've become overreliant on the ChatBots. Your objective should not be to have ChatBots \"do the work for you\", but to use ChatBots to help you build your understanding so you can efficiently leverage ChatBots (and other resources) to help you work more efficiently.<br><br>\n",
    "\n",
    "</details>\n",
    "\n",
    "<details class=\"details-example\"><summary style=\"color:blue\"><u>Instructions</u></summary>\n",
    "\n",
    "### Instructions\n",
    "    \n",
    "1. Code and write all your answers (for both the \"Pre-lecture\" and \"Post-lecture\" HW) in a python notebook (in code and markdown cells) \n",
    "    \n",
    "> It is *suggested but not mandatory* that you complete the \"Pre-lecture\" HW prior to the Monday LEC since (a) all HW is due at the same time; but, (b) completing some of the HW early will mean better readiness for LEC and less of a \"procrastentation cruch\" towards the end of the week...\n",
    "    \n",
    "2. Paste summaries of your ChatBot sessions (including link(s) to chat log histories if you're using ChatGPT) within your notebook\n",
    "    \n",
    "> Create summaries of your ChatBot sessions by using concluding prompts such as \"Please provide a summary of our exchanges here so I can submit them as a record of our interactions as part of a homework assignment\" or, \"Please provide me with the final working verson of the code that we created together\"\n",
    "    \n",
    "3. Save your python jupyter notebook in your own account and \"repo\" on [github.com](github.com) and submit a link to that notebook though Quercus for assignment marking<br><br>\n",
    "\n",
    "</details>\n",
    "\n",
    "<details class=\"details-example\"><summary style=\"color:blue\"><u>Prompt Engineering?</u></summary>\n",
    "    \n",
    "### Prompt Engineering? \n",
    "    \n",
    "The questions (as copy-pasted prompts) are designed to initialize appropriate ChatBot conversations which can be explored in the manner of an interactive and dynamic textbook; but, it is nonetheless **strongly recommendated** that your rephrase the questions in a way that you find natural to ensure a clear understanding of the question. Given sensible prompts the represent a question well, the two primary challenges observed to arise from ChatBots are \n",
    "\n",
    "1. conversations going beyond the intended scope of the material addressed by the question; and, \n",
    "2. unrecoverable confusion as a result of sequential layers logial inquiry that cannot be resolved. \n",
    "\n",
    "In the case of the former (1), adding constraints specifying the limits of considerations of interest tends to be helpful; whereas, the latter (2) is often the result of initial prompting that leads to poor developments in navigating the material, which are likely just best resolve by a \"hard reset\" with a new initial approach to prompting.  Indeed, this is exactly the behavior [hardcoded into copilot](https://answers.microsoft.com/en-us/bing/forum/all/is-this-even-normal/0b6dcab3-7d6c-4373-8efe-d74158af3c00)...\n",
    "\n",
    "</details>"
   ]
  },
  {
   "cell_type": "markdown",
   "id": "ffbc1200",
   "metadata": {},
   "source": [
    "### Marking Rubric (which may award partial credit)\n",
    "- [0.1 points]: All relevant ChatBot summaries [including link(s) to chat log histories if you're using ChatGPT] are reported within the notebook\n",
    "- [0.2 points]: Well-communicated and sensible answers for Question \"2\"\n",
    "- [0.2 points]: Correct code and well-communicated correct answer for Question \"4\" \n",
    "- [0.2 points]: Correct calculations for requested metrics in Question \"6\" \n",
    "- [0.3 points]: Correct and well-communicated explanation of differences for Question \"7\" \n",
    "<!-- - [0.1 points]: Written submission evaluation and enagement confirmation with ChatBot summaries for \"8\", \"10\"-->\n",
    "\n"
   ]
  },
  {
   "cell_type": "markdown",
   "id": "67686639",
   "metadata": {},
   "source": [
    "## \"Pre-lecture\" HW [*completion prior to next LEC is suggested but not mandatory*]"
   ]
  },
  {
   "cell_type": "markdown",
   "id": "54a53734",
   "metadata": {},
   "source": [
    "\n",
    "### 1. Start a ChatBot session to understand what a *Classification Decision Tree* is: (a) ask the ChatBot to describe the type of problem a *Classification Decision Tree* addresses and provide some examples of real-world applications where this might be particularly useful, and then (b) make sure you understand the difference between how a *Classification Decision Tree* makes *(classification) predictions* versus how *Multiple Linear Regression* makes *(regression) predictions*<br>\n",
    "\n",
    "<details class=\"details-example\"><summary style=\"color:blue\"><u>Further Guidance</u></summary>\n",
    "\n",
    "> _The first part (a) of this question is looking for you to understand the difference between **classification** and **regression**. The second part (b) of the questions is looking for a fairly high level understanding of the general nature of a decision tree and how it is based on making sequential decisions down the *nodes* of *tree* in order to eventually make a final prediction. This part (b) is essentially the **Classification Decision Tree** analog of \"explain how the **linear form** makes a prediciton in **Multiple Linear Regression** generally speaking\"; namely,\"explain how the **tree** makes a prediciton in a **Classification Decision Tree** generally speaking\"._\n",
    "> \n",
    "> _**If you're struggling with this, it would probably be most helpful to go search for and some images of example decision trees to look at!**_\n",
    "> \n",
    "> - _You may be beginning to realize or will nonetheless eventually come to understand that the sequential decisions at each stage of the **Decision Tree** are **interactions** (in the same manner as **interactions** in **Multiple Linear Regression**.  Once you start to see that and it's making sense to you then you'll increasingly appreciate how **complex** **Decision Tree** models can be, even though they're pretty simple to understand if you just look at one._\n",
    ">\n",
    "> ---\n",
    ">    \n",
    "> _When using chatbots, it's often more effective (and enjoyable) to ask concise, single questions rather than presenting complex, multi-part queries. This approach can help in obtaining clearer and more specific responses (that might be more enjoyable to interact with). You can always ask multi-part questions as a series of additional sequential questions. With this approach, chatbots may not automatically reiterate previously explained concepts. So if you need a refresher or further explanation on a topic discussed earlier, just explicitly request during follow-up interactions._\n",
    "> \n",
    "> ---\n",
    "> \n",
    "> _Don't forget to ask for summaries of all your different ChatBot sessions and organize and paste these into your homework notebook (including link(s) to chat log histories if you're using ChatBot); but, if you're using the STA130 custom NBLM ChatBot, you'll only be able to ask for summaries, of course!_ \n",
    "    \n",
    "</details>"
   ]
  },
  {
   "cell_type": "markdown",
   "id": "a0fbbb00",
   "metadata": {},
   "source": [
    "(a) The Type of Problem Addressed by a Classification Decision Tree\n",
    "A Classification Decision Tree addresses problems where the goal is to classify data into predefined categories or classes based on input features. The output is discrete (categorical), such as labels or categories, rather than continuous numerical values.\n",
    "\n",
    "Examples of Real-World Applications\n",
    "\n",
    "Medical Diagnosis: Predicting whether a patient has a specific disease (e.g., \"diabetes\" or \"no diabetes\") based on symptoms and test results.\n",
    "Customer Segmentation: Categorizing customers into groups (e.g., \"high-value,\" \"medium-value,\" \"low-value\") based on their purchasing behavior.\n",
    "Spam Detection: Classifying emails as \"spam\" or \"not spam\" based on email content and metadata.\n",
    "Credit Risk Assessment: Determining whether a loan applicant is \"high risk\" or \"low risk\" based on financial history and demographic data.\n",
    "(b) How a Classification Decision Tree Differs from Multiple Linear Regression\n",
    "1. Predictions:\n",
    "\n",
    "Classification Decision Tree:\n",
    "Splits data based on feature thresholds at each decision node.\n",
    "Each leaf node represents a class or category.\n",
    "Predictions are made by traversing the tree, based on feature values, to reach a leaf node that assigns a class label.\n",
    "Example: Predicting if an email is \"spam\" or \"not spam.\"\n",
    "Multiple Linear Regression:\n",
    "Models the relationship between independent variables (features) and a dependent variable (outcome) using a linear equation.\n",
    "Predictions are continuous numerical values calculated using weighted sums of the input features.\n",
    "Example: Predicting a house price based on square footage, number of rooms, and location.\n",
    "2. Output Type:\n",
    "\n",
    "Classification Decision Tree: Discrete (e.g., categories or labels like \"A\" or \"B\").\n",
    "Multiple Linear Regression: Continuous (e.g., numerical values like 3.5, 100.2).\n",
    "3. Underlying Logic:\n",
    "\n",
    "Classification Decision Tree:\n",
    "Uses rules derived from splitting data iteratively to maximize class separation (e.g., Gini impurity or information gain).\n",
    "Non-parametric: Does not assume a specific functional form of the data.\n",
    "Multiple Linear Regression:\n",
    "Fits a linear function to the data by minimizing the sum of squared errors.\n",
    "Parametric: Assumes a linear relationship between the dependent and independent variables.\n",
    "In summary, while Classification Decision Trees are best for categorization problems, Multiple Linear Regression is ideal for estimating continuous outcomes."
   ]
  },
  {
   "cell_type": "markdown",
   "id": "418ad1a9",
   "metadata": {},
   "source": [
    "# summary\n",
    "Classification Decision Tree:\n",
    "Solves classification problems (categorizing data into classes).\n",
    "Real-world examples: medical diagnosis, spam detection, customer segmentation, and credit risk assessment.\n",
    "Makes predictions by traversing a tree based on feature thresholds to assign class labels (discrete output).\n",
    "Multiple Linear Regression:\n",
    "Solves regression problems (predicting continuous values).\n",
    "Example: predicting house prices.\n",
    "Uses a linear equation to predict outcomes based on input features (continuous output).\n",
    "Key Difference: Decision Trees predict discrete categories by splitting data, while Linear Regression predicts continuous values by fitting a linear relationship."
   ]
  },
  {
   "cell_type": "markdown",
   "id": "988c3156",
   "metadata": {},
   "source": [
    "chatgpt:https://chatgpt.com/share/673f6b67-cbec-8013-b29f-67a9dd60a705"
   ]
  },
  {
   "cell_type": "markdown",
   "id": "6bbf97d1",
   "metadata": {},
   "source": [
    "### 2. Continue your ChatBot session and explore with your ChatBot what real-world application scenario(s) might be most appropriately addressed by each of the following *metrics* below: provide your answers and, in your own words, *concisely explain your rationale for your answers.*<br>\n",
    "\n",
    "\n",
    "1. **Accuracy** measures the proportion of true results (both true positives and true negatives) in the population.\n",
    "\n",
    "$$\\text{Accuracy} = \\frac{TP + TN}{TP + TN + FP + FN}$$\n",
    "    \n",
    "2. **Sensitivity** measures the proportion of actual positives that are correctly identified.\n",
    "\n",
    "$$\\text{Sensitivity} = \\frac{TP}{TP + FN}$$\n",
    "\n",
    "3. **Specificity** measures the proportion of actual negatives that are correctly identified.\n",
    "\n",
    "$$\\text{Specificity} = \\frac{TN}{TN + FP}$$\n",
    "\n",
    "4. **Precision** measures the proportion of positive identifications that were actually correct.\n",
    "\n",
    "$$\\text{Precision} = \\frac{TP}{TP + FP}$$\n",
    "\n",
    "<details class=\"details-example\"><summary style=\"color:blue\"><u>Further Guidance</u></summary>\n",
    "\n",
    "> _This question could be restated as, \"Give examples of real-world examples where each of these **metrics** would be particularly useful.\"_\n",
    ">\n",
    "> _The primary objective here is to understand the distinction between each of these **metrics**. The secondary objective is to notice how the nature of the decision-making that each of these **metrics** most naturally supports is very distinct, ideally based on identifying memorable examples that really distinguish between the **metrics**._\n",
    ">\n",
    "> - _Have a look at this (greatly expanded) handy list of additional metrics, formulas, and synonyms at the following [wikipedia page](https://en.wikipedia.org/wiki/Sensitivity_and_specificity) if you want this to get real crazy real fast._\n",
    ">    \n",
    "> ---\n",
    "> \n",
    "> _Don't forget to ask for summaries of all your different ChatBot sessions and organize and paste these into your homework notebook (including link(s) to chat log histories if you're using ChatBot); but, if you're using the STA130 custom NBLM ChatBot, you'll only be able to ask for summaries, of course!_ \n",
    "    \n",
    "</details>"
   ]
  },
  {
   "cell_type": "markdown",
   "id": "d4afa0e9",
   "metadata": {},
   "source": [
    "1.Accuracy: Predicting whether a student passed or failed based on test scores. If the dataset has an equal number of pass/fail cases, accuracy is a good metric.\n",
    "Rationale: the cost of two errors are equal, accuracy effectively measures overall performance.\n",
    "2.Sensitivity: In medical diagnostics, identifying patients with cancer.\n",
    "Rationale: failing to identify a patient with cancer will have a serious problem, so sensitivity needs to be high.\n",
    "3.Specificity: Screening for rare diseases in blood donors.\n",
    "Rationale: Incorrectly identifying may lead to unnecessary waste of resources, so high specificity is desired.\n",
    "4.Precision: Email spam detection.\n",
    "rationale: If identify some important emails as spam can result in missing important communication, so high precision ensures fewer false positives in flagged emails."
   ]
  },
  {
   "cell_type": "markdown",
   "id": "5ced7fa7",
   "metadata": {},
   "source": [
    "# summary\n",
    "Accuracy: Best for balanced datasets where false positives and false negatives have similar costs (e.g., quality control).\n",
    "Sensitivity: Focus on detecting all positives, even at the cost of false positives (e.g., medical screening).\n",
    "Specificity: Prioritize avoiding false positives (e.g., fraud detection).\n",
    "Precision: Emphasize correct positive identifications to reduce false positives (e.g., email spam filtering)."
   ]
  },
  {
   "cell_type": "markdown",
   "id": "2f32a3f2",
   "metadata": {},
   "source": [
    "chatGpt:https://chatgpt.com/share/673f6b67-cbec-8013-b29f-67a9dd60a705"
   ]
  },
  {
   "cell_type": "markdown",
   "id": "f58bd64b",
   "metadata": {},
   "source": [
    "### 3. Explore the amazon books dataset, seen previously at the start of the semester, providing some initital standard *exploratory data analysis (EDA)* and data summarization after pre-processing the dataset to meet the requirements below<br>\n",
    "\n",
    " 1. remove `Weight_oz`, `Width`, and `Height` \n",
    " 2. drop all remaining rows with `NaN` entries \n",
    " 3. set `Pub year` and `NumPages` to have the type `int`, and `Hard_or_Paper` to have the type `category`\n",
    "\n",
    "<details class=\"details-example\"><summary style=\"color:blue\"><u>Further Guidance</u></summary>\n",
    "\n",
    "> _`NaN` entries can't be used in their raw form with the `scikit-learn` methodologies, so we do need to remove them to proceed with our analyses._\n",
    ">     \n",
    "> _Only remove rows with `NaN` entries once you've subset to the columns you're interested in. This will minimize potentially unnecessary data loss..._\n",
    ">\n",
    "> _It would be possible to consider imputing missing data to further mitigate data loss, but the considerations for doing so are more advanced than the level of our course, so we'll not consider that for now._ \n",
    "\n",
    "</details>"
   ]
  },
  {
   "cell_type": "code",
   "execution_count": 20,
   "id": "e4b50624",
   "metadata": {},
   "outputs": [],
   "source": [
    "import pandas as pd\n",
    "import numpy as np\n",
    "from sklearn import tree\n",
    "from sklearn.model_selection import train_test_split\n",
    "from sklearn.metrics import confusion_matrix, ConfusionMatrixDisplay\n",
    "from sklearn.metrics import accuracy_score, recall_score, make_scorer\n",
    "import graphviz as gv\n",
    "\n",
    "url = \"https://raw.githubusercontent.com/pointOfive/STA130_F23/main/Data/amazonbooks.csv\"\n",
    "ab = pd.read_csv(url, encoding=\"ISO-8859-1\")\n",
    "# create `ab_reduced_noNaN` based on the specs above"
   ]
  },
  {
   "cell_type": "markdown",
   "id": "1883e369",
   "metadata": {},
   "source": [
    "Steps for Preprocessing\n",
    "Load the Dataset: Ensure the dataset is properly loaded using the URL.\n",
    "Remove Columns: Drop Weight_oz, Width, and Height using df.drop(columns=[...], inplace=True).\n",
    "Drop Rows with NaN: Remove all rows with missing values using df.dropna(inplace=True).\n",
    "Change Data Types:\n",
    "Convert Pub year and NumPages to integers using df['column'] = df['column'].astype(int).\n",
    "Convert Hard_or_Paper to a categorical type using df['Hard_or_Paper'] = df['Hard_or_Paper'].astype('category').\n",
    "Initial EDA and Summary\n",
    "After preprocessing, here are common EDA steps:\n",
    "\n",
    "Basic Information:\n",
    "Use df.info() to check column data types and non-null counts.\n",
    "Use df.describe() for numerical statistics like mean, min, and max.\n",
    "Category Distributions:\n",
    "For Hard_or_Paper, use df['Hard_or_Paper'].value_counts() to summarize the count of each book type.\n",
    "Numeric Analysis:\n",
    "Plot histograms for Pub year and NumPages to understand the distributions.\n",
    "Identify outliers using boxplots.\n",
    "Correlation:\n",
    "Use df.corr() to find relationships between numerical variables."
   ]
  },
  {
   "cell_type": "markdown",
   "id": "7a6f590b",
   "metadata": {},
   "source": [
    "# summary\n",
    "Preprocessing:\n",
    "Drop unnecessary columns: Weight_oz, Width, and Height.\n",
    "Remove rows with missing values to ensure clean data.\n",
    "Convert data types:\n",
    " Pub year and NumPages → integers.\n",
    " Hard_or_Paper → categorical type.\n",
    "EDA (Exploratory Data Analysis):\n",
    "Data Summary: Use info() to check data types and missing values; use describe() for basic stats of numeric columns.\n",
    "Category Insights: Analyze Hard_or_Paper using frequency counts.\n",
    "Numeric Distributions: Create histograms for Pub year and NumPages to observe data spread and outliers.\n",
    "Relationships: Explore correlations between numeric features to identify patterns."
   ]
  },
  {
   "cell_type": "markdown",
   "id": "dd03278d",
   "metadata": {},
   "source": [
    "chatgpt:https://chatgpt.com/share/673f6b67-cbec-8013-b29f-67a9dd60a705"
   ]
  },
  {
   "cell_type": "markdown",
   "id": "c225c340",
   "metadata": {},
   "source": [
    "### 4. Create an 80/20 split with 80% of the data as a training set *ab_reduced_noNaN_train* and 20% of the data testing set  *ab_reduced_noNaN_test* using either *df.sample(...)* as done in TUT or using *train_test_split(...)* as done in the previous HW, and report on how many observations there are in the training data set and the test data set.<br><br>Tell a ChatBot that you are about to fit a \"scikit-learn\" *DecisionTreeClassifier* model and ask what the two steps given below are doing; then use your ChatBots help to write code to \"train\" a classification tree *clf* using only the *List Price* variable to predict whether or not a book is a hard cover or paper back book using a *max_depth* of *2*; finally use *tree.plot_tree(clf)* to explain what *predictions* are made based on *List Price* for the fitted *clf* model\n",
    "\n",
    "```python\n",
    "y = pd.get_dummies(ab_reduced_noNaN[\"Hard_or_Paper\"])['H']\n",
    "X = ab_reduced_noNaN[['List Price']]\n",
    "```\n",
    "<details class=\"details-example\"><summary style=\"color:blue\"><u>Further Guidance</u></summary>\n",
    "\n",
    "> _To complete the final 80/20 split of the **observations** in a reproducible way, set a \"random seed\"._ \n",
    "> \n",
    "> - _A single **observation** consists of all the measurements made on a single entity, typically corresponding to a row of a data frame. In **Machine Learning**, a collection of values of interest measured for a single entity is called a \"vector\" and so the **observation** is referred to as a **vector**_.\n",
    ">    \n",
    "> _Asking the ChatBot about \"DecisionTreeClassifier .fit(...)\" can be helpful here..._\n",
    "> \n",
    "> _Should you use the \"ab_reduced_noNaN\" data, or the \"ab_reduced_noNaN_train\" data, or the \"ab_reduced_noNaN_test\" data to initially fit the classification tree? Why?_\n",
    ">    \n",
    "> _You can visualize your decision tree using the `tree.plot_tree(clf)` function shown in the `sklearn` documentation [here](\n",
    "https://scikit-learn.org/stable/auto_examples/tree/plot_unveil_tree_structure.html#what-is-the-values-array-used-here) and [here](https://scikit-learn.org/stable/modules/tree.html); but, to make it more immediately readible it might be better to use `graphviz`, which is demonstrated in the `sklearn` documentation [here](https://scikit-learn.org/stable/modules/tree.html#alternative-ways-to-export-trees)_ \n",
    ">    \n",
    "> ---\n",
    "> \n",
    "> _Don't forget to ask for summaries of all your different ChatBot sessions and organize and paste these into your homework notebook (including link(s) to chat log histories if you're using ChatBot); but, if you're using the STA130 custom NBLM ChatBot, you'll only be able to ask for summaries, of course!_ \n",
    "    \n",
    "</details>"
   ]
  },
  {
   "cell_type": "code",
   "execution_count": 21,
   "id": "1120a7ad",
   "metadata": {
    "scrolled": true
   },
   "outputs": [
    {
     "name": "stdout",
     "output_type": "stream",
     "text": [
      "Accuracy: 0.8153846153846154\n"
     ]
    },
    {
     "data": {
      "text/plain": [
       "[Text(0.5, 0.8333333333333334, 'List Price <= 17.495\\ngini = 0.387\\nsamples = 259\\nvalue = [191, 68]\\nclass = Paperback'),\n",
       " Text(0.25, 0.5, 'List Price <= 10.8\\ngini = 0.197\\nsamples = 181\\nvalue = [161, 20]\\nclass = Paperback'),\n",
       " Text(0.125, 0.16666666666666666, 'gini = 0.388\\nsamples = 38\\nvalue = [28, 10]\\nclass = Paperback'),\n",
       " Text(0.375, 0.16666666666666666, 'gini = 0.13\\nsamples = 143\\nvalue = [133, 10]\\nclass = Paperback'),\n",
       " Text(0.75, 0.5, 'List Price <= 28.75\\ngini = 0.473\\nsamples = 78\\nvalue = [30, 48]\\nclass = Hardcover'),\n",
       " Text(0.625, 0.16666666666666666, 'gini = 0.392\\nsamples = 56\\nvalue = [15, 41]\\nclass = Hardcover'),\n",
       " Text(0.875, 0.16666666666666666, 'gini = 0.434\\nsamples = 22\\nvalue = [15, 7]\\nclass = Paperback')]"
      ]
     },
     "execution_count": 21,
     "metadata": {},
     "output_type": "execute_result"
    },
    {
     "data": {
      "image/png": "[encoded data removed]",
      "text/plain": [
       "<Figure size 640x480 with 2 Axes>"
      ]
     },
     "metadata": {},
     "output_type": "display_data"
    }
   ],
   "source": [
    "# Load the dataset\n",
    "url = \"https://raw.githubusercontent.com/pointOfive/STA130_F23/main/Data/amazonbooks.csv\"\n",
    "ab = pd.read_csv(url, encoding=\"ISO-8859-1\")\n",
    "\n",
    "# Remove rows with NaN values in relevant columns (if necessary)\n",
    "ab_reduced_noNaN = ab.dropna(subset=[\"Hard_or_Paper\", \"List Price\"])\n",
    "\n",
    "# Proceed with the rest of your steps\n",
    "y = pd.get_dummies(ab_reduced_noNaN[\"Hard_or_Paper\"])['H']\n",
    "X = ab_reduced_noNaN[['List Price']]\n",
    "\n",
    "# Split the data into training and test sets\n",
    "X_train, X_test, y_train, y_test = train_test_split(X, y, test_size=0.2, random_state=42)\n",
    "\n",
    "# Initialize and train the DecisionTreeClassifier\n",
    "clf = tree.DecisionTreeClassifier(max_depth=2)\n",
    "clf.fit(X_train, y_train)\n",
    "\n",
    "# Predict and evaluate the model\n",
    "y_pred = clf.predict(X_test)\n",
    "accuracy = accuracy_score(y_test, y_pred)\n",
    "print(f\"Accuracy: {accuracy}\")\n",
    "\n",
    "# Confusion Matrix\n",
    "cm = confusion_matrix(y_test, y_pred)\n",
    "disp = ConfusionMatrixDisplay(confusion_matrix=cm, display_labels=clf.classes_)\n",
    "disp.plot()\n",
    "\n",
    "# Visualize the decision tree\n",
    "tree.plot_tree(clf, feature_names=['List Price'], class_names=['Paperback', 'Hardcover'], filled=True)"
   ]
  },
  {
   "cell_type": "markdown",
   "id": "3defd3f3",
   "metadata": {},
   "source": [
    "Here’s an explanation of the two steps you mentioned and how they relate to fitting a DecisionTreeClassifier model:\n",
    "\n",
    "Creating y using pd.get_dummies:"
   ]
  },
  {
   "cell_type": "code",
   "execution_count": 22,
   "id": "7cc28f3e",
   "metadata": {},
   "outputs": [],
   "source": [
    "y = pd.get_dummies(ab_reduced_noNaN[\"Hard_or_Paper\"])['H']"
   ]
  },
  {
   "cell_type": "markdown",
   "id": "2314b051",
   "metadata": {},
   "source": [
    "This line of code is creating the target variable (y). The pd.get_dummies() function is used to convert the categorical column Hard_or_Paper into a dummy/indicator variable. The result is a DataFrame where each unique category (in this case, H for hardcover and P for paperback) becomes a column. We then select the 'H' column, which represents whether a book is hardcover (1) or not (0)."
   ]
  },
  {
   "cell_type": "markdown",
   "id": "b834aa62",
   "metadata": {},
   "source": [
    "Creating X using the List Price:"
   ]
  },
  {
   "cell_type": "code",
   "execution_count": 23,
   "id": "94dd1ead",
   "metadata": {},
   "outputs": [],
   "source": [
    "X = ab_reduced_noNaN[['List Price']]"
   ]
  },
  {
   "cell_type": "markdown",
   "id": "d0295e0c",
   "metadata": {},
   "source": [
    "This line selects the feature variable (X), which in this case is just the List Price of the book. It prepares the data to be used in training the classifier by selecting only the relevant column for predicting the book's type (hardcover or paperback)."
   ]
  },
  {
   "cell_type": "markdown",
   "id": "c8e6c2a5",
   "metadata": {},
   "source": [
    "What does the model do?\n",
    "The classifier is trained to predict whether a book is a hardcover or paperback based on the List Price feature.\n",
    "max_depth=2 limits the tree to two levels, so the model is relatively simple.\n",
    "tree.plot_tree() will visualize how the model is making predictions. You will see how the List Price is being used to decide the predicted class, showing the threshold(s) that separate hardcover from paperback books."
   ]
  },
  {
   "cell_type": "markdown",
   "id": "1d5ad558",
   "metadata": {},
   "source": [
    "# summary\n",
    "Data Preparation: We first discussed how to prepare the dataset for training a DecisionTreeClassifier model:\n",
    "Target Variable (y): We used pd.get_dummies to convert the Hard_or_Paper column into a binary target variable (H for hardcover and P for paperback). The target variable y will be used by the model to predict whether a book is hardcover or paperback.\n",
    "Feature Matrix (X): We selected the List Price column as the feature variable (X), which will be used by the model to make predictions.\n",
    "Fitting the Decision Tree:\n",
    "We then used the DecisionTreeClassifier to train a model with max_depth=2. This means the tree can only make two levels of decisions, preventing overfitting and ensuring a simpler model.\n",
    "After training the model on the training data, we evaluated it using accuracy and confusion matrix.\n",
    "Decision Tree Functionality:\n",
    "The model splits the data based on List Price to predict whether a book is hardcover or paperback. The tree will create decision nodes based on price thresholds, and each leaf node will predict the class (hardcover or paperback).\n",
    "The plot_tree() function visualizes how the model makes decisions based on List Price and the final prediction.\n",
    "Key Concepts:\n",
    "One-Hot Encoding: We used pd.get_dummies() to convert the categorical Hard_or_Paper variable into binary classes.\n",
    "Decision Tree Classifier: This algorithm learns patterns in the data by splitting the feature space (here based on List Price) to minimize prediction error, and the depth of the tree was limited to prevent overfitting.\n",
    "Model Evaluation: Accuracy and confusion matrix were used to assess the performance of the trained model."
   ]
  },
  {
   "cell_type": "markdown",
   "id": "8010dd9f",
   "metadata": {},
   "source": [
    "chatgpt:https://chatgpt.com/share/673f92dc-fdf8-8013-9590-4c7ca7987871"
   ]
  },
  {
   "cell_type": "markdown",
   "id": "f2ac0e5b",
   "metadata": {},
   "source": [
    "<details class=\"details-example\"><summary style=\"color:blue\"><u>Continue now...?</u></summary>\n",
    "\n",
    "### Pre-lecture VS Post-lecture HW\n",
    "\n",
    "Feel free to work on the \"Post-lecture\" HW below if you're making good progress and want to continue: for **HW 08** this could be reasonable because, as you'll see, the process of creating and using **classification decision trees** is quite similar to the process for creating and using **multiple linear regression** models. There are differences of course, such as how there is **coefficient hypothesis testing** in **multiple linear regression** and **confusion matrices** in **classification decision trees**, and so on. But you would very likely be able to leverage the silarities to make a lot of progress with **classification decision trees** based on your experience with **multiple linear regression**.\n",
    "    \n",
    "*The benefits of continue would are that (a) Consolidate the knowledge already learned and integrate it comprehensively. (b) Let you build experience interacting with ChatBots (and understand their strengths and limitations in this regard)... it's good to have sense of when using a ChatBot is the best way to figure something out, or if another approach (such as course provided resources or a plain old websearch for the right resourse) would be more effective*\n",
    "    \n",
    "</details>    "
   ]
  },
  {
   "cell_type": "markdown",
   "id": "d75e7d3e",
   "metadata": {},
   "source": [
    "## \"Post-lecture\" HW [*submission along with \"Pre-lecture\" HW is due prior to next TUT*]\n"
   ]
  },
  {
   "cell_type": "markdown",
   "id": "98b3ce1f",
   "metadata": {},
   "source": [
    "### 5. Repeat the previous problem but this time visualize the *classification decision tree* based on the following specifications below; then explain generally how predictions are made for the *clf2* model<br>\n",
    "\n",
    "1. `X = ab_reduced_noNaN[['NumPages', 'Thick', 'List Price']]`\n",
    "2. `max_depth` set to `4`\n",
    "\n",
    "<details class=\"details-example\"><summary style=\"color:blue\"><u>Further Guidance</u></summary>\n",
    "\n",
    "> - _Use the same **train/test split** dataset used so far_\n",
    "> - _Train the **classification decision tree** `clf2` using **predictor variables** `NumPages`, `Thick` and `List Price`_ \n",
    "> - _Again **predict** whether or not a book is hard cover book or a paper back book_\n",
    "> - _You can visualize your decision tree using the `tree.plot_tree(clf)` function shown in the `sklearn` documentation [here](\n",
    "https://scikit-learn.org/stable/auto_examples/tree/plot_unveil_tree_structure.html#what-is-the-values-array-used-here) and [here](https://scikit-learn.org/stable/modules/tree.html); but, to make it more immediately readible it might be better to use `graphviz`, which is demonstrated in the `sklearn` documentation [here](https://scikit-learn.org/stable/modules/tree.html#alternative-ways-to-export-trees)_\n",
    ">\n",
    "> _If you are interested in how to find the best `max_depth` for a tree, ask ChatBot about \"GridSearchCV\"_\n",
    ">    \n",
    "> ---\n",
    "> \n",
    "> _Don't forget to ask for summaries of all your different ChatBot sessions and organize and paste these into your homework notebook (including link(s) to chat log histories if you're using ChatBot); but, if you're using the STA130 custom NBLM ChatBot, you'll only be able to ask for summaries, of course!_ \n",
    "    \n",
    "</details>"
   ]
  },
  {
   "cell_type": "markdown",
   "id": "768f44d9",
   "metadata": {},
   "source": [
    "To repeat the previous problem with the updated specifications and visualize the classification decision tree based on NumPages, Thick, and List Price, we need to modify the code as follows:\n",
    "\n",
    "Update the feature matrix (X): This time, we are using three features: NumPages, Thick, and List Price.\n",
    "Increase max_depth to 4: This will allow the decision tree to have more splits (up to 4 levels) and potentially capture more complex patterns.\n",
    "Visualize the decision tree: We will visualize the decision tree to understand how the model is making decisions based on the new features."
   ]
  },
  {
   "cell_type": "code",
   "execution_count": 24,
   "id": "8b2c857c",
   "metadata": {},
   "outputs": [
    {
     "name": "stdout",
     "output_type": "stream",
     "text": [
      "Accuracy: 0.8615384615384616\n"
     ]
    },
    {
     "data": {
      "text/plain": [
       "[Text(0.359375, 0.9, 'List Price <= 17.495\\ngini = 0.387\\nsamples = 259\\nvalue = [191, 68]\\nclass = Paperback'),\n",
       " Text(0.125, 0.7, 'NumPages <= 82.0\\ngini = 0.204\\nsamples = 181\\nvalue = [161, 20]\\nclass = Paperback'),\n",
       " Text(0.0625, 0.5, 'gini = 0.0\\nsamples = 5\\nvalue = [0, 5]\\nclass = Hardcover'),\n",
       " Text(0.1875, 0.5, 'NumPages <= 752.0\\ngini = 0.156\\nsamples = 176\\nvalue = [161, 15]\\nclass = Paperback'),\n",
       " Text(0.125, 0.3, 'Thick <= 1.65\\ngini = 0.156\\nsamples = 175\\nvalue = [160, 15]\\nclass = Paperback'),\n",
       " Text(0.0625, 0.1, 'gini = 0.148\\nsamples = 173\\nvalue = [159, 14]\\nclass = Paperback'),\n",
       " Text(0.1875, 0.1, 'gini = 0.0\\nsamples = 2\\nvalue = [1, 1]\\nclass = Paperback'),\n",
       " Text(0.25, 0.3, 'gini = nan\\nsamples = 1\\nvalue = [1, 0]\\nclass = Paperback'),\n",
       " Text(0.59375, 0.7, 'Thick <= 0.95\\ngini = 0.476\\nsamples = 78\\nvalue = [30, 48]\\nclass = Hardcover'),\n",
       " Text(0.4375, 0.5, 'NumPages <= 280.0\\ngini = 0.437\\nsamples = 31\\nvalue = [21, 10]\\nclass = Paperback'),\n",
       " Text(0.375, 0.3, 'List Price <= 19.975\\ngini = 0.499\\nsamples = 20\\nvalue = [10, 10]\\nclass = Paperback'),\n",
       " Text(0.3125, 0.1, 'gini = 0.0\\nsamples = 5\\nvalue = [0, 5]\\nclass = Hardcover'),\n",
       " Text(0.4375, 0.1, 'gini = 0.444\\nsamples = 15\\nvalue = [10, 5]\\nclass = Paperback'),\n",
       " Text(0.5, 0.3, 'gini = 0.0\\nsamples = 11\\nvalue = [11, 0]\\nclass = Paperback'),\n",
       " Text(0.75, 0.5, 'NumPages <= 434.0\\ngini = 0.31\\nsamples = 47\\nvalue = [9, 38]\\nclass = Hardcover'),\n",
       " Text(0.625, 0.3, 'List Price <= 28.495\\ngini = 0.074\\nsamples = 26\\nvalue = [1, 25]\\nclass = Hardcover'),\n",
       " Text(0.5625, 0.1, 'gini = 0.0\\nsamples = 21\\nvalue = [0, 21]\\nclass = Hardcover'),\n",
       " Text(0.6875, 0.1, 'gini = 0.375\\nsamples = 5\\nvalue = [1, 4]\\nclass = Hardcover'),\n",
       " Text(0.875, 0.3, 'Thick <= 1.45\\ngini = 0.472\\nsamples = 21\\nvalue = [8, 13]\\nclass = Hardcover'),\n",
       " Text(0.8125, 0.1, 'gini = 0.408\\nsamples = 7\\nvalue = [5, 2]\\nclass = Paperback'),\n",
       " Text(0.9375, 0.1, 'gini = 0.337\\nsamples = 14\\nvalue = [3, 11]\\nclass = Hardcover')]"
      ]
     },
     "execution_count": 24,
     "metadata": {},
     "output_type": "execute_result"
    },
    {
     "data": {
      "image/png": "[encoded data removed]",
      "text/plain": [
       "<Figure size 640x480 with 2 Axes>"
      ]
     },
     "metadata": {},
     "output_type": "display_data"
    }
   ],
   "source": [
    "# Select features: NumPages, Thick, and List Price\n",
    "X = ab_reduced_noNaN[['NumPages', 'Thick', 'List Price']]\n",
    "\n",
    "# Split the data into training and test sets\n",
    "X_train, X_test, y_train, y_test = train_test_split(X, y, test_size=0.2, random_state=42)\n",
    "\n",
    "# Initialize the DecisionTreeClassifier with max_depth=4\n",
    "clf2 = tree.DecisionTreeClassifier(max_depth=4)\n",
    "\n",
    "# Train the classifier\n",
    "clf2.fit(X_train, y_train)\n",
    "\n",
    "# Predict and evaluate the model\n",
    "y_pred = clf2.predict(X_test)\n",
    "accuracy = accuracy_score(y_test, y_pred)\n",
    "print(f\"Accuracy: {accuracy}\")\n",
    "\n",
    "# Confusion Matrix\n",
    "cm = confusion_matrix(y_test, y_pred)\n",
    "disp = ConfusionMatrixDisplay(confusion_matrix=cm, display_labels=clf2.classes_)\n",
    "disp.plot()\n",
    "\n",
    "# Visualize the decision tree\n",
    "tree.plot_tree(clf2, feature_names=['NumPages', 'Thick', 'List Price'], class_names=['Paperback', 'Hardcover'], filled=True)"
   ]
  },
  {
   "cell_type": "markdown",
   "id": "19df5f22",
   "metadata": {},
   "source": [
    "Explanation of the Predictions Made by the Model:\n",
    "Once the clf2 model is trained, it will use the three features (NumPages, Thick, and List Price) to predict whether a book is hardcover or paperback.\n",
    "\n",
    "Decision Tree Structure:\n",
    "The tree works by splitting the dataset at specific values of the features to separate the two classes (Paperback and Hardcover). The splitting continues recursively for each level up to a maximum of 4 levels (max_depth=4).\n",
    "Each internal node (split) represents a decision based on one of the features: NumPages, Thick, or List Price. The tree will use these features to divide the data into two groups at each split point.\n",
    "How Predictions Are Made:\n",
    "At Each Node: The tree compares the value of one of the features to a threshold. For example, it might check if List Price is greater than a certain value or if NumPages is less than a particular number.\n",
    "Branching: Depending on whether the condition is true or false, the tree branches left or right to another node or reaches a leaf.\n",
    "Leaf Nodes: Each leaf node represents a final prediction (either hardcover or paperback). The tree assigns the majority class in the leaf node as the predicted class.\n",
    "Prediction Example:\n",
    "If you input a book with a specific NumPages, Thick, and List Price, the decision tree will:\n",
    "Start at the root node, where it will compare the first feature (e.g., NumPages).\n",
    "Depending on the result, it will move to the left or right child node.\n",
    "This process continues until a leaf node is reached, which gives the predicted class (hardcover or paperback).\n",
    "Visualizing the Tree: The tree.plot_tree() function will give a graphical representation of how the tree is splitting the data based on these three features, showing the conditions at each node and the predicted class in each leaf node."
   ]
  },
  {
   "cell_type": "markdown",
   "id": "8d92211b",
   "metadata": {},
   "source": [
    "General Predictions Process for clf2:\n",
    "The model begins at the root of the tree, where it examines a feature (e.g., NumPages, Thick, or List Price) and compares it to a threshold.\n",
    "The tree splits the data based on these thresholds and moves down the branches until it reaches a leaf.\n",
    "Each leaf node contains the predicted class (either Paperback or Hardcover), which is the majority class of the observations that fall into that leaf.\n",
    "The final prediction is made by following these splits, which depend on the values of NumPages, Thick, and List Price."
   ]
  },
  {
   "cell_type": "markdown",
   "id": "e68a99ca",
   "metadata": {},
   "source": [
    "# summary\n",
    "Updated Problem Setup:\n",
    "We trained a new DecisionTreeClassifier (clf2) using three features: NumPages, Thick, and List Price, to predict whether a book is hardcover or paperback.\n",
    "The decision tree was configured with a maximum depth of 4 (max_depth=4) to allow up to four levels of splits.\n",
    "Training Process:\n",
    "The dataset was split into training and test sets.\n",
    "The classifier learned patterns by splitting the data recursively based on thresholds in the features (NumPages, Thick, and List Price) to minimize classification errors.\n",
    "How Predictions Are Made:\n",
    "The decision tree starts at the root and evaluates a feature (e.g., NumPages).\n",
    "At each node, it checks whether the feature value satisfies a condition (e.g., List Price > threshold).\n",
    "Based on the result, the model moves left or right through the branches.\n",
    "This continues until it reaches a leaf node, where it assigns a predicted class (either Paperback or Hardcover).\n",
    "Visualization:\n",
    "We used tree.plot_tree() to visualize the structure of the decision tree.\n",
    "The visualization shows the splitting criteria at each node, the resulting branches, and the predicted class in each leaf node.\n",
    "General Observations:\n",
    "The classifier combines the three features (NumPages, Thick, and List Price) to improve prediction accuracy.\n",
    "By limiting the tree’s depth, we balance the complexity of the model, avoiding overfitting while still capturing important patterns."
   ]
  },
  {
   "cell_type": "markdown",
   "id": "46f2337c",
   "metadata": {},
   "source": [
    "chatgpt:https://chatgpt.com/share/673f92dc-fdf8-8013-9590-4c7ca7987871"
   ]
  },
  {
   "cell_type": "markdown",
   "id": "d889386a",
   "metadata": {},
   "source": [
    "### 6. Use previously created *ab_reduced_noNaN_test* to create confusion matrices for *clf* and *clf2*. Report the sensitivity, specificity and accuracy for each of the models<br>\n",
    "\n",
    "<details class=\"details-example\"><summary style=\"color:blue\"><u>Further Guidance</u></summary>\n",
    "\n",
    "> _Hopefully you immediately thought to ask ChatBot to help you with this problem, but if you did you should take time to make sure you're clear about the key components of what the ChatBot is providing for you. You might want to know_\n",
    "> - _what is a \"positive\" and what is a \"negative\"_\n",
    "> - _how to read an `sklearn` confusion matrix_\n",
    "> - _what leads to TP, TN, FP, and FN_\n",
    "> - _whether `y_true` or `y_pred` go first in the `confusion_matrix` function_   \n",
    ">\n",
    "> _Have the visualizations you make use decimal numbers with three signifiant digits, such as `0.123` (and not as percentages like `12.3%`), probably based on `np.round()`_\n",
    ">    \n",
    "> ---\n",
    "> \n",
    "> _Don't forget to ask for summaries of all your different ChatBot sessions and organize and paste these into your homework notebook (including link(s) to chat log histories if you're using ChatBot); but, if you're using the STA130 custom NBLM ChatBot, you'll only be able to ask for summaries, of course!_ \n",
    "       \n",
    "</details>"
   ]
  },
  {
   "cell_type": "markdown",
   "id": "4d3b32cf",
   "metadata": {},
   "source": [
    "To evaluate both clf and clf2 models, we'll use the previously created ab_reduced_noNaN_test dataset to generate confusion matrices and calculate sensitivity, specificity, and accuracy."
   ]
  },
  {
   "cell_type": "markdown",
   "id": "a29f49d7",
   "metadata": {},
   "source": [
    "Code to Compute Metrics"
   ]
  },
  {
   "cell_type": "code",
   "execution_count": 28,
   "id": "56659fef",
   "metadata": {},
   "outputs": [
    {
     "name": "stdout",
     "output_type": "stream",
     "text": [
      "Model clf:\n",
      " Accuracy: 0.82, Sensitivity: 0.67, Specificity: 0.89\n",
      "Model clf2:\n",
      " Accuracy: 0.86, Sensitivity: 0.81, Specificity: 0.89\n"
     ]
    }
   ],
   "source": [
    "# Ensure test sets match the training features\n",
    "X_test_clf = X_test[['List Price']]  # For clf\n",
    "X_test_clf2 = X_test[['NumPages', 'Thick', 'List Price']]  # For clf2\n",
    "\n",
    "# Predict on the test set\n",
    "y_pred_clf = clf.predict(X_test_clf)\n",
    "y_pred_clf2 = clf2.predict(X_test_clf2)\n",
    "\n",
    "# Confusion matrices\n",
    "cm_clf = confusion_matrix(y_test, y_pred_clf)\n",
    "cm_clf2 = confusion_matrix(y_test, y_pred_clf2)\n",
    "\n",
    "# Calculate metrics\n",
    "def calculate_metrics(cm):\n",
    "    tn, fp, fn, tp = cm.ravel()\n",
    "    accuracy = (tp + tn) / (tn + fp + fn + tp)\n",
    "    sensitivity = tp / (tp + fn)  # Recall\n",
    "    specificity = tn / (tn + fp)\n",
    "    return accuracy, sensitivity, specificity\n",
    "\n",
    "accuracy_clf, sensitivity_clf, specificity_clf = calculate_metrics(cm_clf)\n",
    "accuracy_clf2, sensitivity_clf2, specificity_clf2 = calculate_metrics(cm_clf2)\n",
    "\n",
    "# Display results\n",
    "print(f\"Model clf:\\n Accuracy: {accuracy_clf:.2f}, Sensitivity: {sensitivity_clf:.2f}, Specificity: {specificity_clf:.2f}\")\n",
    "print(f\"Model clf2:\\n Accuracy: {accuracy_clf2:.2f}, Sensitivity: {sensitivity_clf2:.2f}, Specificity: {specificity_clf2:.2f}\")\n"
   ]
  },
  {
   "cell_type": "markdown",
   "id": "771b7728",
   "metadata": {},
   "source": [
    "Explanation of Metrics\n",
    "Sensitivity (Recall): The proportion of correctly identified positives (TP / (TP + FN)).\n",
    "Specificity: The proportion of correctly identified negatives (TN / (TN + FP)).\n",
    "Accuracy: Overall proportion of correct predictions ((TP + TN) / Total).\n",
    "After running this code:\n",
    "\n",
    "Compare the sensitivity and specificity to see how well each model balances identifying hardcover books (H) versus avoiding false positives.\n",
    "Evaluate accuracy for overall model performance."
   ]
  },
  {
   "cell_type": "markdown",
   "id": "1ef65b2c",
   "metadata": {},
   "source": [
    "# summary\n",
    "Issue Encountered:\n",
    "When predicting with the clf model, a mismatch in feature names caused a ValueError. The error occurred because the clf model was trained using only the List Price feature, while the test data (X_test) included additional features (NumPages, Thick, and List Price).\n",
    "Solution:\n",
    "We created two separate versions of the test set to ensure compatibility:\n",
    "X_test_clf: Contains only the List Price feature for predictions with clf.\n",
    "X_test_clf2: Contains all three features (NumPages, Thick, and List Price) for predictions with clf2.\n",
    "Metrics Computed:\n",
    "We generated confusion matrices for both models and calculated:\n",
    "Accuracy: Proportion of correct predictions.\n",
    "Sensitivity (Recall): Ability to correctly identify hardcover books.\n",
    "Specificity: Ability to correctly identify paperback books.\n",
    "Metrics were reported for each model to evaluate their performance.\n",
    "Key Takeaways:\n",
    "Model predictions must use the same feature set as the one used during training.\n",
    "Sensitivity and specificity provide insight into the models’ performance on individual classes, while accuracy reflects overall performance.\n",
    "Ensuring proper preprocessing and alignment of features between training and testing phases is critical for avoiding errors."
   ]
  },
  {
   "cell_type": "markdown",
   "id": "6efc32df",
   "metadata": {},
   "source": [
    "chatgpt:https://chatgpt.com/share/673f92dc-fdf8-8013-9590-4c7ca7987871"
   ]
  },
  {
   "cell_type": "markdown",
   "id": "72576c25",
   "metadata": {},
   "source": [
    "### 7. Explain in three to four sentences what is causing the differences between the following two confusion matrices below, and why the two confusion matrices above (for *clf* and *clf2*) are better<br>\n",
    "\n",
    "```python\n",
    "ConfusionMatrixDisplay(\n",
    "    confusion_matrix(ab_reduced_noNaN_train.your_actual_outcome_variable, \n",
    "                     clf.predict(ab_reduced_noNaN_train[['List Price']]), \n",
    "                     labels=[0, 1]), display_labels=[\"Paper\",\"Hard\"]).plot()\n",
    "ConfusionMatrixDisplay(\n",
    "    confusion_matrix(ab_reduced_noNaN_train.your_actual_outcome_variable, \n",
    "                     clf.predict(\n",
    "                         ab_reduced_noNaN_train[['NumPages','Thick','List Price']]), \n",
    "                     labels=[0, 1]), display_labels=[\"Paper\",\"Hard\"]).plot()\n",
    "```\n",
    "\n",
    "\n",
    "<details class=\"details-example\"><summary style=\"color:blue\"><u>Further Guidance</u></summary>\n",
    "    \n",
    "> _Don't forget to ask for summaries of all your different ChatBot sessions and organize and paste these into your homework notebook (including link(s) to chat log histories if you're using ChatBot); but, if you're using the STA130 custom NBLM ChatBot, you'll only be able to ask for summaries, of course!_ \n",
    "    \n",
    "</details>"
   ]
  },
  {
   "cell_type": "markdown",
   "id": "7ff0506b",
   "metadata": {},
   "source": [
    "The differences between the two confusion matrices arise because the first one uses the correct feature set (List Price) that matches how clf was trained, while the second one uses an incorrect feature set (NumPages, Thick, and List Price). Since clf was not trained on NumPages and Thick, it cannot interpret or use these features for predictions, leading to invalid results and potential misclassifications.\n",
    "\n",
    "In contrast, the confusion matrices for clf and clf2 are better because they use test data with feature sets that match the training process. This ensures that predictions are meaningful and aligned with how the models were trained, allowing for accurate evaluation of their performance. Proper alignment of features between training and testing is critical for reliable results."
   ]
  },
  {
   "cell_type": "markdown",
   "id": "3be890f4",
   "metadata": {},
   "source": [
    "# summary\n",
    "Issue with Confusion Matrices:\n",
    "The two confusion matrices differ because the first uses the correct feature set (List Price) for predictions with clf, while the second incorrectly includes additional features (NumPages, Thick, and List Price), which clf was not trained on.\n",
    "This mismatch causes the second confusion matrix to produce invalid results, as the model cannot interpret or utilize features it was not trained on.\n",
    "Why clf and clf2 Confusion Matrices Are Better:\n",
    "For clf, predictions were made using only the List Price feature, aligning with its training data.\n",
    "For clf2, predictions were made using all three features (NumPages, Thick, and List Price), consistent with how it was trained.\n",
    "These correctly matched feature sets ensure reliable and accurate evaluation of the models.\n",
    "Key Takeaway:\n",
    "Predictions and evaluations must use the same feature set as the one used during training to ensure valid and interpretable results."
   ]
  },
  {
   "cell_type": "markdown",
   "id": "ee4fc7f4",
   "metadata": {},
   "source": [
    "Chatgpt:https://chatgpt.com/share/673f92dc-fdf8-8013-9590-4c7ca7987871"
   ]
  },
  {
   "cell_type": "markdown",
   "id": "526939c2",
   "metadata": {},
   "source": [
    "\n",
    "### 8. Read the paragraphs in *Further Guidance* and ask a ChatBot how to visualize *feature Importances* available for *scikit-learn* *classification decision trees*; do so for *clf2*;  and use *.feature_names_in_* corresponding to *.feature_importances_* to report which *predictor variable* is most important for making predictions according to *clf2*<br>\n",
    "\n",
    "\n",
    "<details class=\"details-example\"><summary style=\"color:blue\"><u>Further Guidance</u></summary>\n",
    "  \n",
    "> The way a **classification decision tree** is fit is that at each step in the construction process of adding a new **decision node splitting rule** to the current **tree structure**, all possible **decision rules** for all possible **predictor variables** are considered, and the combination that improves the **prediction** the most (as measured by the criterion of either \"Gini impurity\" or \"Shannon entropy\") and in accordance with the rules of the decision tree (such as the `max_depth` argument) is added to the **classification decision tree**.  Thus overall \"criterion\" noted above improves with each new **decision node splitting rule**, so the improvement can thus be tracked and the improvement contributions attributed to the **feature** upon which the **decision node splitting rule** is based.  This means the relative contribution of each **predictor variable** to the overall explanatory power of the model can be calculated, and this is what the `.feature_importances_` attribute does. \n",
    ">\n",
    "> Compared to the simplicity of understanding how different **covariates** contribute towards the final **predicted values** of **multiple linear regression models** (by just reading off the equation to see how predictions work), the the complexity of how all the different **features** interact and combine to together to create the final **predictions** from **classification decision trees** can be staggering. But the so-called **feature importance** heuristics allows us to judge how relatively important the overall contributions from different features are in the final decision tree predictions. Now we just need to be sure we're not **overfitting** our **classification decision trees** since they can be so **complex**. Fortunately, the \"GridSearchCV\" methodology mentioned in regards to finding the best `max_depth` setting for a tree is going to provide a general answer to the challenge of complexity and **overfitting** in **machine learning models** that is not too hard to understand (and which you might already have some guesses or a hunch about). \n",
    "> \n",
    "> ---\n",
    "> \n",
    "> _Don't forget to ask for summaries of all your different ChatBot sessions and organize and paste these into your homework notebook (including link(s) to chat log histories if you're using ChatBot); but, if you're using the STA130 custom NBLM ChatBot, you'll only be able to ask for summaries, of course!_ \n",
    "       \n",
    "</details>"
   ]
  },
  {
   "cell_type": "markdown",
   "id": "c608b278",
   "metadata": {},
   "source": [
    "Understanding Feature Importances in Decision Trees\n",
    "Feature importance in a decision tree measures the relative contribution of each feature to the model's predictions. It is calculated based on the improvement in the splitting criterion (e.g., Gini impurity or entropy) attributed to a particular feature across all nodes where it is used for splitting.\n",
    "\n",
    "Visualization of Feature Importances\n",
    "Here’s how to visualize the feature importances for clf2 and identify the most important predictor:\n",
    "Code to Compute and Visualize Feature Importances"
   ]
  },
  {
   "cell_type": "code",
   "execution_count": 29,
   "id": "8ce7bd87",
   "metadata": {},
   "outputs": [
    {
     "data": {
      "image/png": "[encoded data removed]",
      "text/plain": [
       "<Figure size 800x600 with 1 Axes>"
      ]
     },
     "metadata": {},
     "output_type": "display_data"
    },
    {
     "name": "stdout",
     "output_type": "stream",
     "text": [
      "The most important feature for clf2 is 'NumPages' with an importance value of nan.\n"
     ]
    }
   ],
   "source": [
    "import matplotlib.pyplot as plt\n",
    "\n",
    "# Feature importances\n",
    "importances = clf2.feature_importances_\n",
    "features = clf2.feature_names_in_\n",
    "\n",
    "# Create a bar plot of feature importances\n",
    "plt.figure(figsize=(8, 6))\n",
    "plt.barh(features, importances, color=\"skyblue\")\n",
    "plt.xlabel(\"Feature Importance\")\n",
    "plt.ylabel(\"Feature Name\")\n",
    "plt.title(\"Feature Importances for clf2\")\n",
    "plt.show()\n",
    "\n",
    "# Report the most important feature\n",
    "most_important_feature = features[importances.argmax()]\n",
    "most_important_value = importances.max()\n",
    "\n",
    "print(f\"The most important feature for clf2 is '{most_important_feature}' with an importance value of {most_important_value:.2f}.\")\n"
   ]
  },
  {
   "cell_type": "markdown",
   "id": "715c5f9c",
   "metadata": {},
   "source": [
    "Explanation of the Output\n",
    "Bar Plot: Shows the relative importance of each feature (NumPages, Thick, and List Price) in the decision tree.\n",
    "Most Important Feature: Identified using the .argmax() function on the importances array.\n",
    "Why This Matters\n",
    "Feature importance gives an interpretable way to judge the contributions of each predictor in a potentially complex decision tree. In the case of clf2, the feature with the highest importance value plays the largest role in splitting the data and driving predictions."
   ]
  },
  {
   "cell_type": "markdown",
   "id": "efbf67e0",
   "metadata": {},
   "source": [
    "# summary\n",
    "Feature Importance in Decision Trees:\n",
    "Feature importance measures the relative contribution of each feature to the model's predictions based on how much they improve the splitting criterion (e.g., Gini impurity or entropy).\n",
    "This provides insight into which features are most influential in the decision-making process of a classification decision tree.\n",
    "Visualization and Identification for clf2:\n",
    "We visualized the feature importances for clf2 using a bar plot, which shows the relative importance of the features (NumPages, Thick, and List Price).\n",
    "The feature with the highest importance value was identified as the most significant predictor for the model.\n",
    "Key Takeaway:\n",
    "While decision trees can be complex, feature importance helps simplify their interpretation by quantifying the contribution of each predictor to the final predictions.\n",
    "Visualizing feature importances aids in understanding which variables drive the model’s decisions, making it easier to communicate and analyze the results."
   ]
  },
  {
   "cell_type": "markdown",
   "id": "6ae5f393",
   "metadata": {},
   "source": [
    "chatgpt:https://chatgpt.com/share/673f92dc-fdf8-8013-9590-4c7ca7987871"
   ]
  },
  {
   "cell_type": "markdown",
   "id": "3eb7d92c",
   "metadata": {},
   "source": [
    "### 9. Describe the differences of interpreting coefficients in linear model regression versus feature importances in decision trees in two to three sentences<br>\n",
    "\n",
    "<details class=\"details-example\"><summary style=\"color:blue\"><u>Further Guidance</u></summary>\n",
    "\n",
    "> _Linear model regression predicts continuous real-valued averages for a given configuration of covariate values (or, feature values, if we're using machine learning terminology instead of statistical terminology), whereas a binary classification model such as a binary classification tree predicts 0/1 (\"yes\" or \"no\") outcomes (and gives the probability of a 1 \"yes\" (or \"success\") outcome from which a 1/0 \"yes\"/\"no\" prediction can be made; but, this is not what is being asked here. This question is asking \"what's the difference in the way we can interpret and understand how the predictor variables influence the predictions in linear model regression based on the coefficients versus in binary decision trees based on the Feature Importances?\"_\n",
    ">    \n",
    "> ---\n",
    "> \n",
    "> _Don't forget to ask for summaries of all your different ChatBot sessions and organize and paste these into your homework notebook (including link(s) to chat log histories if you're using ChatBot); but, if you're using the STA130 custom NBLM ChatBot, you'll only be able to ask for summaries, of course!_ \n",
    "    \n",
    "</details>"
   ]
  },
  {
   "cell_type": "markdown",
   "id": "1533c33a",
   "metadata": {},
   "source": [
    "In linear regression models, coefficients directly represent the change in the predicted outcome for a one-unit increase in the corresponding predictor variable, assuming all other variables are held constant. This makes interpreting linear models straightforward, as the relationship between predictors and the outcome is explicitly quantified. In contrast, feature importances in decision trees reflect the relative contribution of each feature to improving the splitting criterion across all nodes, but they do not provide direct information about the nature (e.g., direction or magnitude) of the relationship between predictors and the outcome, making interpretation less explicit and more heuristic."
   ]
  },
  {
   "cell_type": "markdown",
   "id": "545b0b37",
   "metadata": {},
   "source": [
    "# summary\n",
    "Interpretation in Linear Regression:\n",
    "In linear regression, coefficients quantify the direct relationship between predictors and the outcome. A coefficient indicates how much the predicted value changes for a one-unit increase in the predictor, assuming other variables remain constant.\n",
    "Interpretation in Decision Trees:\n",
    "Feature importances in decision trees measure the relative contribution of each feature to improving the splitting criterion (e.g., Gini impurity or entropy). They do not provide direct information about the magnitude or direction of the relationship between predictors and the outcome.\n",
    "Key Difference:\n",
    "Linear regression offers explicit and direct interpretability through coefficients, while decision trees use a heuristic approach that emphasizes relative importance but lacks direct insight into relationships. This makes linear models more transparent but decision trees more flexible in handling complex data structures."
   ]
  },
  {
   "cell_type": "markdown",
   "id": "d97a82f3",
   "metadata": {},
   "source": [
    "chatgpt:https://chatgpt.com/share/673f92dc-fdf8-8013-9590-4c7ca7987871"
   ]
  },
  {
   "cell_type": "markdown",
   "id": "bf6fb0cb",
   "metadata": {},
   "source": [
    "### 10. Have you reviewed the course wiki-textbook and interacted with a ChatBot (or, if that wasn't sufficient, real people in the course piazza discussion board or TA office hours) to help you understand all the material in the tutorial and lecture that you didn't quite follow when you first saw it?<br>\n",
    "  \n",
    "<details class=\"details-example\"><summary style=\"color:blue\"><u>Further Guidance</u></summary>\n",
    "\n",
    ">  _Here is the link of [wiki-textbook](https://github.com/pointOfive/stat130chat130/wiki) in case it gets lost among all the information you need to keep track of_  : )\n",
    "> \n",
    "> _Just answering \"Yes\" or \"No\" or \"Somewhat\" or \"Mostly\" or whatever here is fine as this question isn't a part of the rubric; but, the midterm and final exams may ask questions that are based on the tutorial and lecture materials; and, your own skills will be limited by your familiarity with these materials (which will determine your ability to actually do actual things effectively with these skills... like the course project...)_\n",
    "    \n",
    "</details>"
   ]
  },
  {
   "cell_type": "markdown",
   "id": "180920e7",
   "metadata": {},
   "source": [
    "Yes."
   ]
  },
  {
   "cell_type": "markdown",
   "id": "d2436778",
   "metadata": {},
   "source": [
    "# Recommended Additional Useful Activities [Optional]\n",
    "\n",
    "The \"Ethical Profesionalism Considerations\" and \"Current Course Project Capability Level\" sections below **are not a part of the required homework assignment**; rather, they are regular weekly guides covering (a) relevant considerations regarding professional and ethical conduct, and (b) the analysis steps for the STA130 course project that are feasible at the current stage of the course \n",
    "\n",
    "<br>\n",
    "<details class=\"details-example\"><summary style=\"color:blue\"><u>Ethical Professionalism Considerations</u></summary>\n",
    "\n",
    "### Ethical Professionalism Considerations\n",
    "\n",
    "- Discuss with a ChatBox about consent and data collection for training models.\n",
    "    - Discuss the ethics of data collection for training decision trees, particularly the need for informed consent when personal data is involved.\n",
    "    - Evaluate the role of regulatory frameworks in ensuring ethical data collection practices.\n",
    "- Discuss with a ChatBox about accountability in automated decision-making.\n",
    "    - Address the challenges of holding systems and their developers accountable when decision trees lead to adverse outcomes.\n",
    "    - Explore legal and ethical frameworks for responsibility when automated decisions go wrong.\n",
    "- Discuss with a ChatBox about transparency and explainability in classification models.\n",
    "    - Discuss the importance of model transparency, particularly when using decision trees in sectors like healthcare or criminal justice.\n",
    "    - Explore methods to enhance the explainability of decision trees, such as visualization techniques and simplified decision paths.\n",
    "- Discuss with a ChatBox about impact of misclassifications in critical applications.\n",
    "    - Examine the consequences of false positives and false negatives in decision tree outcomes, using confusion matrices to highlight these issues.\n",
    "    - Discuss ethical responsibilities when deploying classifiers in high-stakes fields like medicine or law enforcement.\n",
    "    \n",
    "</details>    \n",
    "\n",
    "<details class=\"details-example\"><summary style=\"color:blue\"><u>Current Course Project Capability Level</u></summary>\n",
    "\n",
    "**Remember to abide by the [data use agreement](https://static1.squarespace.com/static/60283c2e174c122f8ebe0f39/t/6239c284d610f76fed5a2e69/1647952517436/Data+Use+Agreement+for+the+Canadian+Social+Connection+Survey.pdf) at all times.**\n",
    "\n",
    "Information about the course project is available on the course github repo [here](https://github.com/pointOfive/stat130chat130/tree/main/CP), including a draft [course project specfication](https://github.com/pointOfive/stat130chat130/blob/main/CP/STA130F23_course_project_specification.ipynb) (subject to change). \n",
    "- The Week 01 HW introduced [STA130F24_CourseProject.ipynb](https://github.com/pointOfive/stat130chat130/blob/main/CP/STA130F24_CourseProject.ipynb), and the [available variables](https://drive.google.com/file/d/1ISVymGn-WR1lcRs4psIym2N3or5onNBi/view). \n",
    "- Please do not download the [data](https://drive.google.com/file/d/1mbUQlMTrNYA7Ly5eImVRBn16Ehy9Lggo/view) accessible at the bottom of the [CSCS](https://casch.org/cscs) webpage (or the course github repo) multiple times.\n",
    "    \n",
    "\n",
    "> ### NEW DEVELOPMENT<br>New Abilities Achieved and New Levels Unlocked!!!    \n",
    "> \n",
    "> And with that, ALL LEVELS unlocked! \n",
    ">\n",
    "> CONGRATS, YOU LEGENDS! 🎉\n",
    ">\n",
    "> You’ve battled through the wild jungles of deadlines, defeated the mighty Homework Beasts, and climbed the towering Mount Procrastination. And guess what? YOU MADE IT TO THE TOP! 🏔️\n",
    "> \n",
    "> Take a bow, grab a treat, and enjoy the sweet, sweet taste of freedom(**just for now , because you still have to finish the project! But you are almost done!**). You’ve earned it. Now go out there and celebrate like the absolute rockstars you are! 🌟💪\n",
    ">\n",
    "\n",
    "    \n",
    "### Current Course Project Capability Level    \n",
    "    \n",
    "I mean, the **course project** is basically, like, essentially now.\n",
    "    \n",
    "- Will you be doing any **classification decision trees** stuff for the course project?\n",
    "    - You could consider making some [partial dependency plots](https://scikit-learn.org/stable/modules/partial_dependence.html) if so...\n",
    "    - those might provide an interesting analysis in addition to **tree structure** visualizations, **confusion matrices**, **feature importances**. and the standard \"in-sample versus out-of-sample\" **train-test validation** analysis that would be expected in a **machine learning context**\n",
    "    \n",
    "- You could see if there are any interesting columns that might make for a potentially interesting **classification decision tree** analysis\n",
    "    - You wouldn't have to though...\n",
    "    - But if you did you'd want to be able to articulate and explain why what you're doing with **classification decision trees** is appropriate and enlightening\n",
    "\n",
    "- Anyway, I guess that just leaves reviewing all the statistical techniques covered in STA130, and considering integrating them holistically into your project!\n",
    "    \n",
    "</details>        "
   ]
  },
  {
   "cell_type": "code",
   "execution_count": null,
   "id": "524759d7",
   "metadata": {},
   "outputs": [],
   "source": []
  }
 ],
 "metadata": {
  "kernelspec": {
   "display_name": "Python 3 (ipykernel)",
   "language": "python",
   "name": "python3"
  },
  "language_info": {
   "codemirror_mode": {
    "name": "ipython",
    "version": 3
   },
   "file_extension": ".py",
   "mimetype": "text/x-python",
   "name": "python",
   "nbconvert_exporter": "python",
   "pygments_lexer": "ipython3",
   "version": "3.11.6"
  }
 },
 "nbformat": 4,
 "nbformat_minor": 5
}
